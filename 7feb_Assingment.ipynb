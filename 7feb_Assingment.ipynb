{
 "cells": [
  {
   "cell_type": "code",
   "execution_count": 1,
   "id": "1e69c08f-990e-4419-8c51-8fb70f523c69",
   "metadata": {},
   "outputs": [],
   "source": [
    "#Q1. You are writing code for a company. The requirement of the company is that you create a python \n",
    "# function that will check whether the password entered by the user is correct or not. The function should \n",
    "# take the password as input and return the string “Valid Password” if the entered password follows the \n",
    "# below-given password guidelines else it should return “Invalid Password”.\n",
    "\n",
    "\n",
    "# Note: 1. The Password should contain at least two uppercase letters and at least two lowercase letters.\n",
    "\n",
    "# 2. The Password should contain at least a number and three special characters.\n",
    "\n",
    "# 3. The length of the password should be 10 characters long."
   ]
  },
  {
   "cell_type": "code",
   "execution_count": 11,
   "id": "e5aad21e-e217-4f20-88e4-bc32c452c9a1",
   "metadata": {},
   "outputs": [],
   "source": [
    "def check_password(password):\n",
    "    # Check length of password\n",
    "    if len(password) < 10:\n",
    "        return \"Invalid Password\"\n",
    "    \n",
    "    # Count uppercase and lowercase letters\n",
    "    upper_count = 0\n",
    "    lower_count = 0\n",
    "    for char in password:\n",
    "        if char.isupper():\n",
    "            upper_count += 1\n",
    "        elif char.islower():\n",
    "            lower_count += 1\n",
    "    \n",
    "    # Check number of uppercase and lowercase letters\n",
    "    if upper_count < 2 or lower_count < 2:\n",
    "        return \"Invalid Password\"\n",
    "    \n",
    "    # Count digits and special characters\n",
    "    digit_count = 0\n",
    "    special_count = 0\n",
    "    for char in password:\n",
    "        if char.isdigit():\n",
    "            digit_count += 1\n",
    "        elif not char.isalnum():\n",
    "            special_count += 1\n",
    "    \n",
    "    # Check number of digits and special characters\n",
    "    if digit_count == 0 or special_count < 3:\n",
    "        return \"Invalid Password\"\n",
    "    \n",
    "    # If all conditions are met, return \"Valid Password\"\n",
    "    return \"Valid Password\"\n"
   ]
  },
  {
   "cell_type": "code",
   "execution_count": 12,
   "id": "dd0125cc-2ad0-4bd1-83cf-25373c644be4",
   "metadata": {},
   "outputs": [
    {
     "name": "stdin",
     "output_type": "stream",
     "text": [
      "Enter the Password =  WElcome12!@#\n"
     ]
    },
    {
     "name": "stdout",
     "output_type": "stream",
     "text": [
      "Valid Password\n"
     ]
    }
   ],
   "source": [
    "Enter_password = input(\"Enter the Password = \")\n",
    "Check_password = check_password(Enter_password)\n",
    "print(Check_password)                                                      "
   ]
  },
  {
   "cell_type": "code",
   "execution_count": 15,
   "id": "dac0f99f-bff9-430a-a90a-bd088de07b31",
   "metadata": {},
   "outputs": [],
   "source": [
    "#Q2. Solve the below-given questions using at least one of the following: \n",
    "\n",
    "# 1. Lambda functio\n",
    "# 2. Filter functio\n",
    "# 3. Zap functio\n",
    "# 4. List Comprehensio\n",
    "# Check if the string starts with a particular letter\n",
    "# Check if the string is numeric\n",
    "# Sort a list of tuples having fruit names and their quantity. [(\"mango\",99),(\"orange\",80), (\"grapes\", 1000)]\n",
    "# Find the squares of numbers from 1 to 10\n",
    "# Find the cube root of numbers from 1 to 10\n",
    "# Check if a given number is even\n",
    "# Filter odd numbers from the given list.  [1,2,3,4,5,6,7,8,9,10]\n",
    "# Sort a list of integers into positive and negative integers lists.  [1,2,3,4,5,6,-1,-2,-3,-4,-5,0]"
   ]
  },
  {
   "cell_type": "code",
   "execution_count": 16,
   "id": "ebff1ac0-dc34-4b59-98c7-42743525572f",
   "metadata": {},
   "outputs": [
    {
     "name": "stdout",
     "output_type": "stream",
     "text": [
      "The string starts with 'H'\n"
     ]
    }
   ],
   "source": [
    "#Check if the string starts with a particular letter\n",
    "my_string = \"Hello, World!\"\n",
    "\n",
    "if my_string.startswith(\"H\"):\n",
    "    print(\"The string starts with 'H'\")\n",
    "else:\n",
    "    print(\"The string does not start with 'H'\")\n"
   ]
  },
  {
   "cell_type": "code",
   "execution_count": 17,
   "id": "708caa56-6351-43fe-827c-05ecbb819d9f",
   "metadata": {},
   "outputs": [
    {
     "name": "stdout",
     "output_type": "stream",
     "text": [
      "The string is numeric.\n"
     ]
    }
   ],
   "source": [
    "# Check if the string is numeric\n",
    "my_string = \"1234\"\n",
    "if my_string.isdigit():\n",
    "    print(\"The string is numeric.\")\n",
    "else:\n",
    "    print(\"The string is not numeric.\")\n",
    "\n",
    "    "
   ]
  },
  {
   "cell_type": "code",
   "execution_count": 18,
   "id": "4fa21a19-ab22-4c04-ad89-84d1892467e0",
   "metadata": {},
   "outputs": [
    {
     "name": "stdout",
     "output_type": "stream",
     "text": [
      "[('orange', 80), ('mango', 99), ('grapes', 1000)]\n"
     ]
    }
   ],
   "source": [
    "# Sort a list of tuples having fruit names and their quantity. [(\"mango\",99),(\"orange\",80), (\"grapes\", 1000)]\n",
    "fruits = [(\"mango\",99),(\"orange\",80), (\"grapes\", 1000)]\n",
    "\n",
    "sorted_fruits = sorted(fruits, key=lambda x: x[1])\n",
    "\n",
    "print(sorted_fruits)\n"
   ]
  },
  {
   "cell_type": "code",
   "execution_count": 26,
   "id": "f6fdc31d-e522-4cfa-a96d-b893ef989317",
   "metadata": {},
   "outputs": [
    {
     "name": "stdout",
     "output_type": "stream",
     "text": [
      "[1, 4, 9, 16, 25, 36, 49, 64, 81, 100]\n"
     ]
    }
   ],
   "source": [
    "# Find the squares of numbers from 1 to 10\n",
    "squares = list(map(lambda x: x**2, range(1, 11)))\n",
    "print(squares)\n"
   ]
  },
  {
   "cell_type": "code",
   "execution_count": 27,
   "id": "22e94811-a857-454c-ba9b-fe8d214da24b",
   "metadata": {},
   "outputs": [
    {
     "name": "stdout",
     "output_type": "stream",
     "text": [
      "[1.0, 1.4142135623730951, 1.7320508075688772, 2.0, 2.23606797749979, 2.449489742783178, 2.6457513110645907, 2.8284271247461903, 3.0, 3.1622776601683795]\n"
     ]
    }
   ],
   "source": [
    "# Find the cube root of numbers from 1 to 10\n",
    "squroot = list(map(lambda x: x**0.5, range(1, 11)))\n",
    "print(squroot)"
   ]
  },
  {
   "cell_type": "code",
   "execution_count": 32,
   "id": "73eb2c49-ce99-46a8-8524-acb6ecf043e0",
   "metadata": {},
   "outputs": [
    {
     "name": "stdout",
     "output_type": "stream",
     "text": [
      "[2, 4, 8, 0]\n"
     ]
    }
   ],
   "source": [
    "# Check if a given number is even\n",
    "l = [1,2,3,4,5,7,8,9,0]\n",
    "even = list(filter(lambda x : x%2 == 0 , l))\n",
    "print(even)"
   ]
  },
  {
   "cell_type": "code",
   "execution_count": 33,
   "id": "b781a517-f6a2-4c09-8144-32da3d5381d0",
   "metadata": {},
   "outputs": [
    {
     "name": "stdout",
     "output_type": "stream",
     "text": [
      "[1, 3, 5, 7, 9]\n"
     ]
    }
   ],
   "source": [
    "# Filter odd numbers from the given list.  [1,2,3,4,5,6,7,8,9,10]\n",
    "odd = list(filter(lambda x : x%2 != 0 ,[1,2,3,4,5,6,7,8,9,10] ))\n",
    "print(odd)"
   ]
  },
  {
   "cell_type": "code",
   "execution_count": 34,
   "id": "f9f19718-6cc6-470d-bf23-fe7c1013e3db",
   "metadata": {},
   "outputs": [
    {
     "name": "stdout",
     "output_type": "stream",
     "text": [
      "Positive integers list: [1, 2, 3, 4, 5, 6]\n",
      "Negative integers list: [-1, -2, -3, -4, -5]\n"
     ]
    }
   ],
   "source": [
    "# Sort a list of integers into positive and negative integers lists.  [1,2,3,4,5,6,-1,-2,-3,-4,-5,0]\n",
    "lst = [1, 2, 3, 4, 5, 6, -1, -2, -3, -4, -5, 0]\n",
    "\n",
    "positive_lst = list(filter(lambda x: x > 0, lst))\n",
    "negative_lst = list(filter(lambda x: x < 0, lst))\n",
    "\n",
    "print(\"Positive integers list:\", positive_lst)\n",
    "print(\"Negative integers list:\", negative_lst)\n"
   ]
  },
  {
   "cell_type": "code",
   "execution_count": null,
   "id": "62fb8486-b819-4bc9-b778-8d2e72d44579",
   "metadata": {},
   "outputs": [],
   "source": []
  }
 ],
 "metadata": {
  "kernelspec": {
   "display_name": "Python 3 (ipykernel)",
   "language": "python",
   "name": "python3"
  },
  "language_info": {
   "codemirror_mode": {
    "name": "ipython",
    "version": 3
   },
   "file_extension": ".py",
   "mimetype": "text/x-python",
   "name": "python",
   "nbconvert_exporter": "python",
   "pygments_lexer": "ipython3",
   "version": "3.10.8"
  }
 },
 "nbformat": 4,
 "nbformat_minor": 5
}
